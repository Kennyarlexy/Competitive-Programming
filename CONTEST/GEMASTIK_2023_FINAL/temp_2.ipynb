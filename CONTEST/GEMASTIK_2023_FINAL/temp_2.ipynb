{
 "cells": [
  {
   "cell_type": "code",
   "execution_count": 1,
   "metadata": {},
   "outputs": [],
   "source": [
    "import numpy as np"
   ]
  },
  {
   "cell_type": "code",
   "execution_count": 2,
   "metadata": {},
   "outputs": [
    {
     "name": "stdout",
     "output_type": "stream",
     "text": [
      "Original Matrix:\n",
      "[[ 1  2 -1]\n",
      " [ 1  0  1]\n",
      " [ 0  1  0]]\n",
      "\n",
      "Inverse Matrix:\n",
      "[[ 0.5  0.5 -1. ]\n",
      " [-0.  -0.   1. ]\n",
      " [-0.5  0.5  1. ]]\n"
     ]
    }
   ],
   "source": [
    "import numpy as np\n",
    "\n",
    "# Create a square matrix\n",
    "matrix = np.array([[1, 2, -1],\n",
    "                  [1, 0, 1],\n",
    "                  [0, 1, 0]])\n",
    "\n",
    "# Calculate the inverse of the matrix\n",
    "inverse_matrix = np.linalg.inv(matrix)\n",
    "\n",
    "print(\"Original Matrix:\")\n",
    "print(matrix)\n",
    "print(\"\\nInverse Matrix:\")\n",
    "print(inverse_matrix)\n"
   ]
  },
  {
   "cell_type": "code",
   "execution_count": 10,
   "metadata": {},
   "outputs": [
    {
     "name": "stdout",
     "output_type": "stream",
     "text": [
      "[[ 33  -1 -20]\n",
      " [  9  -5   4]\n",
      " [ -6   2   0]]\n"
     ]
    },
    {
     "data": {
      "text/plain": [
       "2.0783375020982994e-13"
      ]
     },
     "execution_count": 10,
     "metadata": {},
     "output_type": "execute_result"
    }
   ],
   "source": [
    "asdfsdf = np.array([[5, 2, 3],\n",
    "                    [-1, -3, 2],\n",
    "                    [0, 1, -1]])\n",
    "fsdf = np.array([[1, 0, -4],\n",
    "                 [2, 1, 0],\n",
    "                 [8, -1, 0]])\n",
    "\n",
    "aaaaa = np.matmul(asdfsdf, fsdf)\n",
    "print(aaaaa)\n",
    "np.linalg.det(aaaaa)"
   ]
  },
  {
   "cell_type": "code",
   "execution_count": 5,
   "metadata": {},
   "outputs": [
    {
     "data": {
      "text/plain": [
       "-2.0"
      ]
     },
     "execution_count": 5,
     "metadata": {},
     "output_type": "execute_result"
    }
   ],
   "source": [
    "np.linalg.det(fsdf)"
   ]
  }
 ],
 "metadata": {
  "kernelspec": {
   "display_name": "Python 3",
   "language": "python",
   "name": "python3"
  },
  "language_info": {
   "codemirror_mode": {
    "name": "ipython",
    "version": 3
   },
   "file_extension": ".py",
   "mimetype": "text/x-python",
   "name": "python",
   "nbconvert_exporter": "python",
   "pygments_lexer": "ipython3",
   "version": "3.9.6"
  },
  "orig_nbformat": 4
 },
 "nbformat": 4,
 "nbformat_minor": 2
}
